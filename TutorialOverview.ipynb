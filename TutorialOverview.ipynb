{
 "cells": [
  {
   "cell_type": "markdown",
   "metadata": {
    "deletable": true,
    "editable": true
   },
   "source": [
    "# Middleware for Data-intensive Analysis and Science (MIDAS) tutorial\n",
    "\n",
    "*Names*\n",
    "\n",
    "The tutorial material is available as iPython notebook on Github:\n",
    "\n",
    " * [link](https://github.com/radical-cybertools/MIDAS-tutorial)\n",
    "\n",
    "## Requirements and Setup:\n",
    "\n",
    "Enclosed a list of dependency for installation on a Python virtualenv:\n",
    "\n",
    "* iPython\n",
    "* Numpy\n",
    "* Pandas\n",
    "* Scikit-Learn\n",
    "* Matplotlib, Seaborn\n",
    "* RADICAL-Pilot\n",
    "\n",
    "\n",
    "## 1. Background\n",
    "The Pilot-Abstraction has been used to execute task-based workloads on distributed resources. A Pilot-Job is a placeholder job that is submitting to the resource management system and is used as a container for a dynamically determined set of compute tasks.\n",
    "\n",
    "The Pilot-Abstraction supports heterogeneous resources, including cloud, HPC, and Hadoop resources.\n",
    "\n",
    "![Pilot Abstraction](./figures/interoperable_pilot_job.png)\n",
    "\n",
    "\n",
    "\n",
    "## 2. Tutorial\n",
    "\n",
    "\n",
    "### RADICAL Pilot\n",
    "\n",
    "We will discuss how to get started with RADICAL-Pilot, followed by simple examples for RADICAL-Pilot, first \"locally\" and then \"remotely\" on XSEDE supercomputers. In the end you should be able to launch a RADICAL-Pilot script either \"locally\" or \"remotely\".\n",
    "\n",
    "The following example demonstrates how RADICAL-Pilot is used to execute a bin/date example.\n",
    "\n",
    "[Link to Notebook](./pilot/Radical_Pilot.ipynb)\n",
    "\n",
    "### Pilot-Hadoop:\n",
    "\n",
    "We will discuss how to get started with Pilot-Hadoop, followed by simple examples for Pilot-Hadoop, first \"locally\" and then \"remotely\" on XSEDE supercomputers. In the end you should be able to launch a Pilot-Hadoop script either \"locally\" or \"remotely\".\n",
    "\n",
    "The following example demonstrates how  Pilot-Hadoop is used to execute a bin/date example.\n",
    "\n",
    "[Link to Notebook](./pilot/Pilot-Hadoop.ipynb)\n",
    "\n",
    "### Pilot-Spark\n",
    "\n",
    "We will discuss how to get started with Pilot-Spark, followed by simple examples for Pilot-Spark, first \"locally\" \n",
    "and then \"remotely\" on XSEDE supercomputers. In the end you should be able to launch a Pilot-Spark script either \"locally\" or \"remotely\".\n",
    "\n",
    "The following example demonstrates how Pilot-Spark is used to execute an example that estimates Pi.\n",
    "\n",
    "[Link to Notebook](./pilot/Pilot-Spark.ipynb)\n"
   ]
  }
 ],
 "metadata": {
  "anaconda-cloud": {},
  "kernelspec": {
   "display_name": "Python [default]",
   "language": "python",
   "name": "python2"
  },
  "language_info": {
   "codemirror_mode": {
    "name": "ipython",
    "version": 2
   },
   "file_extension": ".py",
   "mimetype": "text/x-python",
   "name": "python",
   "nbconvert_exporter": "python",
   "pygments_lexer": "ipython2",
   "version": "2.7.12"
  }
 },
 "nbformat": 4,
 "nbformat_minor": 0
}
