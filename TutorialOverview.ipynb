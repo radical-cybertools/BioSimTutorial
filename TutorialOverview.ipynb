{
 "cells": [
  {
   "cell_type": "markdown",
   "metadata": {
    "deletable": true,
    "editable": true
   },
   "source": [
    "# Middleware for Data-intensive Analysis and Science (MIDAS) tutorial\n",
    "\n",
    "*Names*\n",
    "\n",
    "The tutorial material is available as iPython notebook on Github:\n",
    "\n",
    " * [link](https://github.com/radical-cybertools/MIDAS-tutorial)\n",
    "\n",
    "## Requirements and Setup:\n",
    "\n",
    "Enclosed a list of dependency for installation on other machines:\n",
    "\n",
    "* iPython\n",
    "* Numpy\n",
    "* Pandas\n",
    "* Scikit-Learn\n",
    "* Matplotlib, Seaborn\n",
    "* RADICAL-Pilot\n",
    "\n",
    "\n",
    "## 1. Background\n",
    "\n",
    "\n",
    "\n",
    "\n",
    "## 2. Tutorial\n",
    "\n",
    "\n",
    "### RADICAL Pilot\n",
    "The Pilot-Abstraction has been used to execute task-based workloads on distributed resources. A Pilot-Job is a placeholder job that is submitting to the resource management system and is used as a container for a dynamically determined set of compute tasks.\n",
    "\n",
    "The Pilot-Abstraction supports heterogeneous resources, including cloud, HPC, and Hadoop resources.\n",
    "\n",
    "![Pilot Abstraction](./figures/interoperable_pilot_job.png)\n",
    "\n",
    "The following example demonstrates how the Pilot-Abstraction is used to execute the PSA algorithm described.\n",
    "\n",
    "[Link to Notebook](./pilot/Radical_Pilot.ipynb)\n",
    "\n",
    "### RADICAL-Pilot-YARN:\n",
    "\n",
    "[Link to Notebook](./pilot/Radical_Pilot-YARN.ipynb)\n",
    "\n",
    "### RADICAL-Pilot-Spark\n",
    "\n",
    "[Link to Notebook](./pilot/Radical_Pilot-Spark.ipynb)\n"
   ]
  },
  {
   "cell_type": "code",
   "execution_count": null,
   "metadata": {
    "collapsed": true,
    "deletable": true,
    "editable": true
   },
   "outputs": [],
   "source": []
  }
 ],
 "metadata": {
  "anaconda-cloud": {},
  "kernelspec": {
   "display_name": "Python 2",
   "language": "python",
   "name": "python2"
  },
  "language_info": {
   "codemirror_mode": {
    "name": "ipython",
    "version": 2
   },
   "file_extension": ".py",
   "mimetype": "text/x-python",
   "name": "python",
   "nbconvert_exporter": "python",
   "pygments_lexer": "ipython2",
   "version": "2.7.12"
  }
 },
 "nbformat": 4,
 "nbformat_minor": 0
}
